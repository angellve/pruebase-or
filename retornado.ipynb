{
 "cells": [
  {
   "cell_type": "code",
   "execution_count": null,
   "id": "35c06a50",
   "metadata": {},
   "outputs": [],
   "source": [
    "print(\"probando los comando de git para seguimiento de mis versiones, en entornos de desarrollo que no estan con git\")\n",
    "print(\"probando el segundo commit despues de retroceder\")\n",
    "print(\"prueba de otro cambio\")\n",
    "print(\"probando mas mierda\")"
   ]
  }
 ],
 "metadata": {
  "kernelspec": {
   "display_name": "Python 3 (ipykernel)",
   "language": "python",
   "name": "python3"
  },
  "language_info": {
   "codemirror_mode": {
    "name": "ipython",
    "version": 3
   },
   "file_extension": ".py",
   "mimetype": "text/x-python",
   "name": "python",
   "nbconvert_exporter": "python",
   "pygments_lexer": "ipython3",
   "version": "3.9.7"
  }
 },
 "nbformat": 4,
 "nbformat_minor": 5
}
